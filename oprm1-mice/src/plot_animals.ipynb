{
 "cells": [
  {
   "cell_type": "code",
   "execution_count": 2,
   "id": "8e871c28-a57c-455a-8cd8-398a33f5f99e",
   "metadata": {},
   "outputs": [],
   "source": [
    "import pandas as pd\n",
    "import os"
   ]
  },
  {
   "cell_type": "code",
   "execution_count": 3,
   "id": "449ec1a5-07b5-44cd-a331-eed3879ceeb9",
   "metadata": {},
   "outputs": [],
   "source": [
    "def plot_function(particle_filter_list, beh_segmentation_list):\n",
    "    \n",
    "    list_of_avg = []\n",
    "    x = 1\n",
    "\n",
    "    # Iterate through the particle filter and beh_segmentation lists that contain the absolute paths of the files of interest.\n",
    "    for (i, j) in zip(particle_filter_list, beh_segmentation_list):\n",
    "        n_bins_per_seg = 10\n",
    "        # for sess in SessionIterator(\"Miniscope recordings\").findSessions():\n",
    "        filtered = pd.read_hdf(i) # Particle Filter\n",
    "        segmented = pd.read_hdf(j, key=\"/per_frame\") # Behavioral Segmentation\n",
    "        state_order_series = pd.Series(state_order, name=\"state_order\")\n",
    "        segmented_relevant = segmented.join(state_order_series, on=\"state_name\")\n",
    "        x_pos = segmented_relevant.spatial_progress + segmented_relevant.state_order\n",
    "        speeds = filtered.speed[np.isfinite(x_pos)]\n",
    "        bin_x = np.floor(x_pos[np.isfinite(x_pos)]*n_bins_per_seg).astype(int)\n",
    "        gby = (60*speeds).groupby([bin_x, segmented_relevant.segment_no]).mean().groupby(level=0)\n",
    "        avgs = gby.mean()\n",
    "        low_q = gby.quantile(0.25)\n",
    "        high_q = gby.quantile(0.75)\n",
    "        N_trials = len(segmented[segmented.state_name == \"leftReward\"].segment_no.unique())\n",
    "        avgs = avgs.clip(lower=0)\n",
    "        list_of_avg += [avgs]\n",
    "        \n",
    "        # Plotting\n",
    "        plt.figure(figsize=(7, 3))\n",
    "        plt.plot(avgs)\n",
    "        plt.fill_between(avgs.index, low_q, high_q, alpha=.2)\n",
    "        plt.text(0.9, 0.85, f\"N={N_trials} trials\", ha=\"right\", transform=plt.gca().transAxes)\n",
    "        plt.title(\"Animal \"+str(x)+\" learning day 1\")\n",
    "        labels = [\"Turn at initiation\", \"Run in main arm\", \"Turn to left\", \"Run in left arm\", \"At reward\"]\n",
    "        for i in range(1, 5):\n",
    "            plt.axvline(i*n_bins_per_seg, color='k', linestyle='--')\n",
    "        plt.xticks((np.arange(5)+0.5)*n_bins_per_seg, labels, rotation=15, ha=\"right\")\n",
    "        plt.ylabel(\"Average speed (cm/s)\")\n",
    "        plt.ylim(-5, 30)\n",
    "        sns.despine()\n",
    "        print(i, j)\n",
    "        x += 1\n",
    "\n",
    "        # Saving plots\n",
    "        plt.savefig('/Users/pierre.le.merre/OneDrive - KI.SE/Mac/Desktop/animals1-2-3-learningday1&11/'+'learningday'+str(x)+'.png', bbox_inches='tight', dpi=300 )\n",
    "        plt.show()\n"
   ]
  },
  {
   "cell_type": "code",
   "execution_count": null,
   "id": "c9b97ae3-baae-4bea-b6ec-09212fd2dbc0",
   "metadata": {},
   "outputs": [],
   "source": []
  }
 ],
 "metadata": {
  "kernelspec": {
   "display_name": "Python 3 (ipykernel)",
   "language": "python",
   "name": "python3"
  },
  "language_info": {
   "codemirror_mode": {
    "name": "ipython",
    "version": 3
   },
   "file_extension": ".py",
   "mimetype": "text/x-python",
   "name": "python",
   "nbconvert_exporter": "python",
   "pygments_lexer": "ipython3",
   "version": "3.9.12"
  }
 },
 "nbformat": 4,
 "nbformat_minor": 5
}
