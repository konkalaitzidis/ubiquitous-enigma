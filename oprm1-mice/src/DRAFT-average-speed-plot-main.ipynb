{
 "cells": [
  {
   "cell_type": "code",
   "execution_count": 1,
   "id": "e362695f-ee07-4adf-9227-f0670cf486ca",
   "metadata": {},
   "outputs": [],
   "source": [
    "import matplotlib.pyplot as plt\n",
    "import numpy as np\n",
    "import seaborn as sns\n",
    "import pandas as pd\n",
    "import os\n",
    "import itertools\n",
    "import statistics"
   ]
  },
  {
   "cell_type": "code",
   "execution_count": 2,
   "id": "e029ccf9-0e3a-478c-9e5d-66ff2d374a10",
   "metadata": {},
   "outputs": [],
   "source": [
    "from ipynb.fs.full.particle_file_search import search_particle_filter\n",
    "from ipynb.fs.full.behavior_segmentation_search import search_behavior_segmentation\n",
    "from ipynb.fs.full.plot_animals import plot_function"
   ]
  },
  {
   "cell_type": "code",
   "execution_count": 1,
   "id": "9cb424f2-adb1-4e2a-b8a2-a73681204d95",
   "metadata": {},
   "outputs": [],
   "source": [
    "import sys\n",
    "sys.path.append(\"/Users/pierre.le.merre/dmclab-kostas/Developer/projects/dmcdb_py\")"
   ]
  },
  {
   "cell_type": "code",
   "execution_count": 2,
   "id": "43b96ed0-78b8-4d7e-b482-ff3304d74099",
   "metadata": {},
   "outputs": [],
   "source": [
    "from readSessionsServer import SessionIterator"
   ]
  },
  {
   "cell_type": "code",
   "execution_count": 3,
   "id": "132493f0-7076-4d01-a22a-0bc73b311891",
   "metadata": {},
   "outputs": [],
   "source": [
    "state_order = {\n",
    "    'initRight': 0,\n",
    "    'initLeft': 0,\n",
    "    'mainRunLeft': 1,\n",
    "    'turnMainToLeft': 2,\n",
    "    'leftRun': 3,\n",
    "    'leftReward': 4\n",
    "}"
   ]
  },
  {
   "cell_type": "code",
   "execution_count": null,
   "id": "51324b81-be29-4ddd-a72f-b2e86e5ba4e0",
   "metadata": {},
   "outputs": [],
   "source": [
    "n_bins_per_seg = 10\n",
    "\n",
    "#This loops through all the sessions (a.k.a. realizations).\n",
    "#To just get a single session, write\n",
    "# `sess = SessionIterator(\"Miniscope recordings\").findSession()`\n",
    "#instead of the loop.\n",
    "for sess in SessionIterator(\"ipsilateral\").findSessions():\n",
    "    #Get the filtered speed and angular speed from the particle filter\n",
    "    filtered = sess.getProcessedTable(\"Particle Filter\")\n",
    "\n",
    "    #Get the behavior segmentation per frame\n",
    "    segmented = sess.getProcessedTable(\"Behavior segmentation\", \"per_frame\")\n",
    "\n",
    "    #For each frame, add an int 0-4 to match which phase of the trial the\n",
    "    # frames falls in, or NaN if it's some other phase not in the list.\n",
    "    state_order_series = pd.Series(state_order, name=\"state_order\")\n",
    "    segmented_relevant = segmented.join(state_order_series, on=\"state_name\")\n",
    "\n",
    "    #The x-coordinate is the state order (0 to 4), plus the progression through \n",
    "    #each frame (0 to 1) according to the behavior segmentation\n",
    "    x_pos = segmented_relevant.spatial_progress + segmented_relevant.state_order\n",
    "\n",
    "    #Only look at the speeds on frames which are not NaN, i.e. which fall into\n",
    "    #one of the phases in `state_order`\n",
    "    speeds = filtered.speed[np.isfinite(x_pos)]\n",
    "\n",
    "    #Filter out NaNs and bin the x-coordinates\n",
    "    bin_x = np.floor(x_pos[np.isfinite(x_pos)]*n_bins_per_seg).astype(int)\n",
    "\n",
    "    #Per bin of x-coordiate...\n",
    "    gby = (60*speeds).groupby([bin_x, segmented_relevant.segment_no]).mean().groupby(level=0)\n",
    "   \n",
    "    #...calulate the median\n",
    "    medians = gby.median()\n",
    "\n",
    "    #...and the the first and third quartile\n",
    "    low_q = gby.quantile(0.25)\n",
    "    high_q = gby.quantile(0.75)\n",
    "\n",
    "    #The number of trials is approximated by the number of rewards at the left port\n",
    "    N_trials = len(segmented[segmented.state_name == \"leftReward\"].segment_no.unique())\n",
    "    \n",
    "    #Plot these values\n",
    "    plt.figure(figsize=(7, 3))\n",
    "    plt.plot(medians)\n",
    "    plt.fill_between(medians.index, low_q, high_q, alpha=.2)\n",
    "    plt.title(f\"{sess} (N={N_trials} trials)\")\n",
    "    labels = [\"Turn at initiation\", \"Run in main arm\", \"Turn to left\", \"Run in left arm\", \"At reward\"]\n",
    "    for i in range(1, 5):\n",
    "        plt.axvline(i*n_bins_per_seg, color='k', linestyle='--')\n",
    "    plt.xticks((np.arange(5)+0.5)*n_bins_per_seg, labels, rotation=15, ha=\"right\")\n",
    "    plt.ylabel(\"Average speed (cm/s)\")\n",
    "    plt.ylim(-5, 30)\n",
    "    sns.despine()\n",
    "    plt.show()"
   ]
  },
  {
   "cell_type": "code",
   "execution_count": null,
   "id": "11ee7ecd-500a-4fd4-a06d-df179201e653",
   "metadata": {},
   "outputs": [],
   "source": []
  },
  {
   "cell_type": "code",
   "execution_count": null,
   "id": "0ed18d9a-9b2a-4af6-a52d-fa0533413b9a",
   "metadata": {},
   "outputs": [],
   "source": []
  }
 ],
 "metadata": {
  "kernelspec": {
   "display_name": "Python 3 (ipykernel)",
   "language": "python",
   "name": "python3"
  },
  "language_info": {
   "codemirror_mode": {
    "name": "ipython",
    "version": 3
   },
   "file_extension": ".py",
   "mimetype": "text/x-python",
   "name": "python",
   "nbconvert_exporter": "python",
   "pygments_lexer": "ipython3",
   "version": "3.9.12"
  }
 },
 "nbformat": 4,
 "nbformat_minor": 5
}
