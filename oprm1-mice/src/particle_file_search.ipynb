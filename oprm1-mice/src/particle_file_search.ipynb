{
 "cells": [
  {
   "cell_type": "code",
   "execution_count": 57,
   "id": "b27ad718-4fd3-42ab-a270-e90801fc76a0",
   "metadata": {},
   "outputs": [],
   "source": [
    "import pandas as pd\n",
    "import os"
   ]
  },
  {
   "cell_type": "code",
   "execution_count": 58,
   "id": "0fa86954-d4a7-4125-8a38-c9531f0e1101",
   "metadata": {},
   "outputs": [],
   "source": [
    "def search_particle_filter(dir_path):\n",
    "    particle_filter_list = []\n",
    "    for root, dirs, files in os.walk(os.path.abspath(dir_path)):\n",
    "        for file in files:\n",
    "            print(os.path.join(root, file))\n",
    "            particle_filter_list.append(os.path.join(root, file))\n",
    "    particle_filter_list.sort()\n",
    "    return particle_filter_list"
   ]
  },
  {
   "cell_type": "code",
   "execution_count": null,
   "id": "97e02fcc-5bc9-4165-a8d0-7dff980315f1",
   "metadata": {},
   "outputs": [],
   "source": []
  }
 ],
 "metadata": {
  "kernelspec": {
   "display_name": "Python 3 (ipykernel)",
   "language": "python",
   "name": "python3"
  },
  "language_info": {
   "codemirror_mode": {
    "name": "ipython",
    "version": 3
   },
   "file_extension": ".py",
   "mimetype": "text/x-python",
   "name": "python",
   "nbconvert_exporter": "python",
   "pygments_lexer": "ipython3",
   "version": "3.9.12"
  }
 },
 "nbformat": 4,
 "nbformat_minor": 5
}
