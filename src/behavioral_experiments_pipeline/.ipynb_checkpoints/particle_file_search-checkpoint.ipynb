{
 "cells": [
  {
   "cell_type": "code",
   "execution_count": 22,
   "id": "b27ad718-4fd3-42ab-a270-e90801fc76a0",
   "metadata": {},
   "outputs": [],
   "source": [
    "import pandas as pd\n",
    "import os\n",
    "import itertools"
   ]
  },
  {
   "cell_type": "code",
   "execution_count": 25,
   "id": "0fa86954-d4a7-4125-8a38-c9531f0e1101",
   "metadata": {},
   "outputs": [],
   "source": [
    "def search_particle_filter(dir_path):\n",
    "    particle_filter_list = []\n",
    "    for root, dirs, files in os.walk(os.path.abspath(dir_path)):\n",
    "        for file in files:\n",
    "            print(os.path.join(root, file))\n",
    "            particle_filter_list.append(os.path.join(root, file))\n",
    "    particle_filter_list.sort()\n",
    "    return particle_filter_list"
   ]
  },
  {
   "cell_type": "code",
   "execution_count": 26,
   "id": "57ddcdec-4b45-449c-b09c-293cb54a3d39",
   "metadata": {},
   "outputs": [],
   "source": [
    "def search_behavior_segmentation(dir_path):\n",
    "    beh_segmentation_list = []\n",
    "    for root, dirs, files in os.walk(os.path.abspath(dir_path)):\n",
    "        for file in files:\n",
    "            print(os.path.join(root, file))\n",
    "            beh_segmentation_list.append(os.path.join(root, file))     \n",
    "    beh_segmentation_list.sort()\n",
    "    return beh_segmentation_list"
   ]
  },
  {
   "cell_type": "code",
   "execution_count": null,
   "id": "d1ca7bea-eb86-4cb5-802d-851053954d02",
   "metadata": {},
   "outputs": [],
   "source": []
  },
  {
   "cell_type": "code",
   "execution_count": null,
   "id": "59dcd2f1-7730-4815-8491-da5737238b23",
   "metadata": {},
   "outputs": [],
   "source": []
  }
 ],
 "metadata": {
  "kernelspec": {
   "display_name": "Python 3 (ipykernel)",
   "language": "python",
   "name": "python3"
  },
  "language_info": {
   "codemirror_mode": {
    "name": "ipython",
    "version": 3
   },
   "file_extension": ".py",
   "mimetype": "text/x-python",
   "name": "python",
   "nbconvert_exporter": "python",
   "pygments_lexer": "ipython3",
   "version": "3.9.12"
  }
 },
 "nbformat": 4,
 "nbformat_minor": 5
}
