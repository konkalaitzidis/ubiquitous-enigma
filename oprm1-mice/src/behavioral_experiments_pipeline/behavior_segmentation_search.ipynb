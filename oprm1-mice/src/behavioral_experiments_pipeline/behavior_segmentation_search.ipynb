{
 "cells": [
  {
   "cell_type": "code",
   "execution_count": 3,
   "id": "78faff71-0655-41b1-9ed9-b8851fa22789",
   "metadata": {},
   "outputs": [],
   "source": [
    "import pandas as pd\n",
    "import os"
   ]
  },
  {
   "cell_type": "code",
   "execution_count": 4,
   "id": "9942f3ff-5e66-419a-96f2-95effa3e6b01",
   "metadata": {},
   "outputs": [],
   "source": [
    "def search_behavior_segmentation(dir_path):\n",
    "    beh_segmentation_list = []\n",
    "    for root, dirs, files in os.walk(os.path.abspath(dir_path)):\n",
    "        for file in files:\n",
    "            print(os.path.join(root, file))\n",
    "            beh_segmentation_list.append(os.path.join(root, file))     \n",
    "    beh_segmentation_list.sort()\n",
    "    return beh_segmentation_list"
   ]
  },
  {
   "cell_type": "code",
   "execution_count": null,
   "id": "8567cce8-03a3-411f-a64d-d3d650492d31",
   "metadata": {},
   "outputs": [],
   "source": []
  }
 ],
 "metadata": {
  "kernelspec": {
   "display_name": "Python 3 (ipykernel)",
   "language": "python",
   "name": "python3"
  },
  "language_info": {
   "codemirror_mode": {
    "name": "ipython",
    "version": 3
   },
   "file_extension": ".py",
   "mimetype": "text/x-python",
   "name": "python",
   "nbconvert_exporter": "python",
   "pygments_lexer": "ipython3",
   "version": "3.9.12"
  }
 },
 "nbformat": 4,
 "nbformat_minor": 5
}
